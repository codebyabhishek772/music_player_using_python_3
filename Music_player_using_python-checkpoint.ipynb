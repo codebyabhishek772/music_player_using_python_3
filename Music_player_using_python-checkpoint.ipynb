{
 "cells": [
  {
   "cell_type": "code",
   "execution_count": 43,
   "metadata": {},
   "outputs": [],
   "source": [
    "import os\n",
    "from tkinter.filedialog import askdirectory\n",
    "import pygame\n",
    "from mutagen.id3 import ID3\n",
    "from tkinter import *"
   ]
  },
  {
   "cell_type": "code",
   "execution_count": 44,
   "metadata": {},
   "outputs": [],
   "source": [
    "root = Tk() # creates an Empty window\n",
    "root.minsize(300,300) # set size as 300 x 300 wide, Change this accordingly"
   ]
  },
  {
   "cell_type": "code",
   "execution_count": 45,
   "metadata": {},
   "outputs": [],
   "source": [
    "listofsongs = []\n",
    "\n",
    "realnames = []"
   ]
  },
  {
   "cell_type": "code",
   "execution_count": 46,
   "metadata": {},
   "outputs": [],
   "source": [
    "v = StringVar()\n",
    "songlabel = Label(root,textvariable=v,width=35)"
   ]
  },
  {
   "cell_type": "code",
   "execution_count": 47,
   "metadata": {},
   "outputs": [],
   "source": [
    "def directorychooser():\n",
    "\n",
    "    directory = askdirectory()\n",
    "    os.chdir(directory)\n",
    "    #Loop over all the files in that directory\n",
    "    for file in os.listdir(directory):\n",
    "        # only add them if they end with .mp3\n",
    "        if file.endswith(\".mp3\"):\n",
    "            realdir = os.path.realpath(file)\n",
    "\t# load the meta data of that song into audio variable. (A dictionary)\n",
    "            audio = ID3(realdir)\n",
    "\t# TIT2 refers to the TITLE of the song, So let’s append that to realnames\n",
    "            realnames.append(audio['TIT2'].text[0])\n",
    "            listofsongs.append(file)\n",
    "    \n",
    "    # initialize pygame\n",
    "    pygame.mixer.init()\n",
    "    # load the first song\n",
    "    pygame.mixer.music.load(listofsongs[0])\n",
    "    #pygame.mixer.music.play()"
   ]
  },
  {
   "cell_type": "code",
   "execution_count": 48,
   "metadata": {},
   "outputs": [],
   "source": [
    "def updatelabel():\n",
    "    global index # If you do not use global, new index variable will be defined\n",
    "    global songname\n",
    "    v.set(realnames[index]) # set our StringVar to the real name \n",
    "    #return songname"
   ]
  },
  {
   "cell_type": "code",
   "execution_count": 49,
   "metadata": {},
   "outputs": [],
   "source": [
    "def nextsong(event):\n",
    "    # get index from globals\n",
    "    global index \n",
    "    # increment index\n",
    "    index += 1 \n",
    "    # get the next song from listofsongs\n",
    "    pygame.mixer.music.load(listofsongs[index])\n",
    "    # play it away\n",
    "    pygame.mixer.music.play()\n",
    "    # do not forget to update the label !\n",
    "    updatelabel()"
   ]
  },
  {
   "cell_type": "code",
   "execution_count": 50,
   "metadata": {},
   "outputs": [],
   "source": [
    "def prevsong(event):\n",
    "   global index\n",
    "   index -= 1\n",
    "   pygame.mixer.music.load(listofsongs[index])\n",
    "   pygame.mixer.music.play()\n",
    "   updatelabel()"
   ]
  },
  {
   "cell_type": "code",
   "execution_count": 51,
   "metadata": {},
   "outputs": [],
   "source": [
    "def stopsong(event):\n",
    "    # stop the current song which is playing\n",
    "    pygame.mixer.music.stop()\n",
    "    # set our Label to empty\n",
    "    v.set(\"\")\n",
    "    #return songname"
   ]
  },
  {
   "cell_type": "code",
   "execution_count": 52,
   "metadata": {},
   "outputs": [],
   "source": [
    "label = Label(root,text='Music Player') # set the heading\n",
    "label.pack() # pack it inside root window"
   ]
  },
  {
   "cell_type": "code",
   "execution_count": 53,
   "metadata": {},
   "outputs": [],
   "source": [
    "listbox = Listbox(root)\n",
    "listbox.pack()"
   ]
  },
  {
   "cell_type": "code",
   "execution_count": 54,
   "metadata": {},
   "outputs": [],
   "source": [
    "realnames.reverse()\n",
    "\n",
    "for items in realnames:\n",
    "    listbox.insert(0,items)\n",
    "\n",
    "realnames.reverse()"
   ]
  },
  {
   "cell_type": "code",
   "execution_count": 55,
   "metadata": {},
   "outputs": [],
   "source": [
    "nextbutton = Button(root,text = 'Next Song')\n",
    "nextbutton.pack()\n",
    "\n",
    "previousbutton = Button(root,text = 'Previous Song')\n",
    "previousbutton.pack()\n",
    "\n",
    "stopbutton = Button(root,text='Stop Music')\n",
    "stopbutton.pack()"
   ]
  },
  {
   "cell_type": "code",
   "execution_count": 56,
   "metadata": {},
   "outputs": [
    {
     "data": {
      "text/plain": [
       "'1955061541384stopsong'"
      ]
     },
     "execution_count": 56,
     "metadata": {},
     "output_type": "execute_result"
    }
   ],
   "source": [
    "nextbutton.bind(\"<Button-1>\",nextsong)\n",
    "previousbutton.bind(\"<Button-1>\",prevsong)\n",
    "stopbutton.bind(\"<Button-1>\",stopsong)"
   ]
  },
  {
   "cell_type": "code",
   "execution_count": 57,
   "metadata": {},
   "outputs": [],
   "source": [
    "songlabel.pack()\n"
   ]
  },
  {
   "cell_type": "code",
   "execution_count": 58,
   "metadata": {},
   "outputs": [],
   "source": [
    "root.mainloop()"
   ]
  },
  {
   "cell_type": "code",
   "execution_count": null,
   "metadata": {},
   "outputs": [],
   "source": []
  }
 ],
 "metadata": {
  "kernelspec": {
   "display_name": "Python 3",
   "language": "python",
   "name": "python3"
  },
  "language_info": {
   "codemirror_mode": {
    "name": "ipython",
    "version": 3
   },
   "file_extension": ".py",
   "mimetype": "text/x-python",
   "name": "python",
   "nbconvert_exporter": "python",
   "pygments_lexer": "ipython3",
   "version": "3.7.6"
  }
 },
 "nbformat": 4,
 "nbformat_minor": 4
}
